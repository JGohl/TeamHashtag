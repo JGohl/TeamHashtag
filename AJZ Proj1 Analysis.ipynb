{
 "cells": [
  {
   "cell_type": "code",
   "execution_count": 1,
   "metadata": {},
   "outputs": [],
   "source": [
    "#Libraries and Dependencies\n",
    "import pandas as pd\n",
    "import numpy as np\n",
    "import matplotlib.pyplot as plt\n",
    "import glob\n",
    "import os"
   ]
  },
  {
   "cell_type": "code",
   "execution_count": 2,
   "metadata": {},
   "outputs": [],
   "source": [
    "#Read dataframe from preprocessing\n",
    "data = pd.read_csv(\"Output/frame.csv\",index_col=None, header=0,low_memory=False)\n",
    "df = pd.DataFrame(data)"
   ]
  },
  {
   "cell_type": "code",
   "execution_count": 3,
   "metadata": {},
   "outputs": [],
   "source": [
    "#Convert publish date to Timestamp\n",
    "df['publish_date'] = pd.to_datetime(df['publish_date'])"
   ]
  },
  {
   "cell_type": "code",
   "execution_count": 4,
   "metadata": {},
   "outputs": [],
   "source": [
    "#Add time period column for analysis points of interest\n",
    "before = (df['publish_date'] > pd.to_datetime('6/30/2015')) & (df['publish_date'] <= pd.to_datetime('3/1/2016')) \n",
    "during = (df['publish_date'] > pd.to_datetime('3/1/2016'))  & (df['publish_date'] <= pd.to_datetime('12/1/2016'))\n",
    "after = (df['publish_date'] > pd.to_datetime('12/1/2016')) & (df['publish_date'] <= pd.to_datetime('6/30/2017'))\n",
    "df.loc[before, \"time_period\"] = 'Pre-election'\n",
    "df.loc[during, \"time_period\"] = 'Election season'\n",
    "df.loc[after, \"time_period\"] = 'Post-election'"
   ]
  },
  {
   "cell_type": "code",
   "execution_count": 5,
   "metadata": {},
   "outputs": [],
   "source": [
    "#Wish to strip the tweets from outside of our range of interest from the dataframe\n",
    "df = df.dropna()\n",
    "#dropna removes tweets that did not have a define region and those that were outside of the time period of interest"
   ]
  },
  {
   "cell_type": "code",
   "execution_count": 6,
   "metadata": {},
   "outputs": [
    {
     "name": "stdout",
     "output_type": "stream",
     "text": [
      "The number of tweets in English were 1641375\n",
      "The number of tweets that were not in English were 744448\n"
     ]
    }
   ],
   "source": [
    "#Separate tweets that are english and non-english into their own dataframes\n",
    "df_eng = pd.DataFrame(df.loc[df['language']== 'English'])\n",
    "df_not_eng = pd.DataFrame(df.loc[df['language'] != 'English'])\n",
    "num_eng = df_eng.count()[0]\n",
    "num_not_eng = df_not_eng.count()[0]\n",
    "print(f'The number of tweets in English were {num_eng}')\n",
    "print(f'The number of tweets that were not in English were {num_not_eng}')"
   ]
  },
  {
   "cell_type": "code",
   "execution_count": 7,
   "metadata": {},
   "outputs": [],
   "source": [
    "#Reset the index\n",
    "df_eng = df_eng.reset_index(drop=True)"
   ]
  },
  {
   "cell_type": "code",
   "execution_count": 8,
   "metadata": {},
   "outputs": [],
   "source": [
    "#Select account types of interest\n",
    "right = df_eng['account_category'] == 'RightTroll'\n",
    "left = df_eng['account_category'] == 'LeftTroll'\n",
    "news = df_eng['account_category'] == 'NewsFeed'\n",
    "hashtag = df_eng['account_category'] == 'HashtagGamer'\n",
    "fearmonger = df_eng['account_category'] == 'Fearmonger'\n",
    "df_troll = pd.DataFrame(df_eng.loc[right | left | news | hashtag | fearmonger])"
   ]
  },
  {
   "cell_type": "code",
   "execution_count": 32,
   "metadata": {},
   "outputs": [
    {
     "data": {
      "text/plain": [
       "NewsFeed        531541\n",
       "RightTroll      387238\n",
       "LeftTroll       367978\n",
       "HashtagGamer    210177\n",
       "Fearmonger        9858\n",
       "Name: account_category, dtype: int64"
      ]
     },
     "execution_count": 32,
     "metadata": {},
     "output_type": "execute_result"
    }
   ],
   "source": [
    "#Reset the index\n",
    "df_troll = df_troll.reset_index(drop=True)\n",
    "Troll_tweets = df_troll['account_category'].value_counts()\n",
    "df_troll['account_category'].value_counts()"
   ]
  },
  {
   "cell_type": "code",
   "execution_count": 37,
   "metadata": {},
   "outputs": [],
   "source": [
    "#Find logical index of each category for .loc\n",
    "right = df_troll['account_category'] == 'RightTroll'\n",
    "left = df_troll['account_category'] == 'LeftTroll'\n",
    "news = df_troll['account_category'] == 'NewsFeed'\n",
    "hashtag = df_troll['account_category'] == 'HashtagGamer'\n",
    "fearmonger = df_troll['account_category'] == 'Fearmonger'\n",
    "\n",
    "troll_fear = pd.DataFrame(df_troll.loc[fearmonger])\n",
    "troll_fear = troll_fear.reset_index(drop=True)\n",
    "\n",
    "troll_hashtag = pd.DataFrame(df_troll.loc[hashtag])\n",
    "troll_hashtag = troll_hashtag.reset_index(drop=True)\n",
    "\n",
    "troll_news = pd.DataFrame(df_troll.loc[news])\n",
    "troll_news = troll_news.reset_index(drop=True)\n",
    "\n",
    "troll_left = pd.DataFrame(df_troll.loc[left])\n",
    "troll_left = troll_left.reset_index(drop=True)\n",
    "\n",
    "troll_right = pd.DataFrame(df_troll.loc[right])\n",
    "troll_right = troll_right.reset_index(drop=True)"
   ]
  },
  {
   "cell_type": "code",
   "execution_count": 53,
   "metadata": {},
   "outputs": [
    {
     "name": "stdout",
     "output_type": "stream",
     "text": [
      "The number of fearmongers was 121.\n",
      "The number of hashtagers was 111. \n",
      "The number of news linkers was 53.\n",
      "The number of left trolls was 224.\n",
      "The number of right trolls was 424\n"
     ]
    }
   ],
   "source": [
    "#find number of authors for each category\n",
    "fear_nauthors = troll_fear['author'].nunique()\n",
    "hashtag_nauthors = troll_hashtag['author'].nunique()\n",
    "news_nauthors = troll_news['author'].nunique()\n",
    "left_nauthors = troll_left['author'].nunique()\n",
    "right_nauthors = troll_right['author'].nunique()\n",
    "print(f\"The number of fearmongers was {fear_nauthors}.\\nThe number of hashtagers was {hashtag_nauthors}. \\\n",
    "\\nThe number of news linkers was {news_nauthors}.\\nThe number of left trolls was {left_nauthors}.\\\n",
    "\\nThe number of right trolls was {right_nauthors}\")"
   ]
  },
  {
   "cell_type": "code",
   "execution_count": 57,
   "metadata": {},
   "outputs": [
    {
     "name": "stdout",
     "output_type": "stream",
     "text": [
      "There were 9858 fearmonger account tweets. \n",
      "There were 210177 hashtag account tweets. \n",
      "There were 531541 news account tweets. \n",
      "There were 367978 left account tweets. \n",
      "There were 387238 right account tweets.\n"
     ]
    }
   ],
   "source": [
    "#Find the number of authors for each category\n",
    "fear_ntweets = troll_fear['author'].count()\n",
    "hashtag_ntweets = troll_hashtag['author'].count()\n",
    "news_ntweets = troll_news['author'].count()\n",
    "left_ntweets = troll_left['author'].count()\n",
    "right_ntweets = troll_right['author'].count()\n",
    "print(f\"There were {fear_ntweets} fearmonger account tweets. \\\n",
    "\\nThere were {hashtag_ntweets} hashtag account tweets. \\\n",
    "\\nThere were {news_ntweets} news account tweets. \\\n",
    "\\nThere were {left_ntweets} left account tweets. \\\n",
    "\\nThere were {right_ntweets} right account tweets.\")"
   ]
  },
  {
   "cell_type": "code",
   "execution_count": 101,
   "metadata": {},
   "outputs": [
    {
     "data": {
      "text/html": [
       "<div>\n",
       "<style scoped>\n",
       "    .dataframe tbody tr th:only-of-type {\n",
       "        vertical-align: middle;\n",
       "    }\n",
       "\n",
       "    .dataframe tbody tr th {\n",
       "        vertical-align: top;\n",
       "    }\n",
       "\n",
       "    .dataframe thead th {\n",
       "        text-align: right;\n",
       "    }\n",
       "</style>\n",
       "<table border=\"1\" class=\"dataframe\">\n",
       "  <thead>\n",
       "    <tr style=\"text-align: right;\">\n",
       "      <th></th>\n",
       "      <th>Author</th>\n",
       "      <th>Account Type</th>\n",
       "      <th>Number of Tweets</th>\n",
       "    </tr>\n",
       "  </thead>\n",
       "  <tbody>\n",
       "    <tr>\n",
       "      <th>0</th>\n",
       "      <td>1D_NICOLE_</td>\n",
       "      <td>Fearmonger</td>\n",
       "      <td>6</td>\n",
       "    </tr>\n",
       "    <tr>\n",
       "      <th>1</th>\n",
       "      <td>1ERIK_LEE</td>\n",
       "      <td>RightTroll</td>\n",
       "      <td>2</td>\n",
       "    </tr>\n",
       "    <tr>\n",
       "      <th>2</th>\n",
       "      <td>2NDHALFONION</td>\n",
       "      <td>RightTroll</td>\n",
       "      <td>3</td>\n",
       "    </tr>\n",
       "    <tr>\n",
       "      <th>3</th>\n",
       "      <td>4EVER_SUSAN</td>\n",
       "      <td>RightTroll</td>\n",
       "      <td>62</td>\n",
       "    </tr>\n",
       "    <tr>\n",
       "      <th>4</th>\n",
       "      <td>4MYSQUAD</td>\n",
       "      <td>LeftTroll</td>\n",
       "      <td>4767</td>\n",
       "    </tr>\n",
       "  </tbody>\n",
       "</table>\n",
       "</div>"
      ],
      "text/plain": [
       "         Author Account Type  Number of Tweets\n",
       "0    1D_NICOLE_   Fearmonger                 6\n",
       "1     1ERIK_LEE   RightTroll                 2\n",
       "2  2NDHALFONION   RightTroll                 3\n",
       "3   4EVER_SUSAN   RightTroll                62\n",
       "4      4MYSQUAD    LeftTroll              4767"
      ]
     },
     "execution_count": 101,
     "metadata": {},
     "output_type": "execute_result"
    }
   ],
   "source": [
    "df_box = pd.DataFrame(df_troll.groupby(['author','account_category']).count()['external_author_id'])\n",
    "df_box = df_box.reset_index()\n",
    "df_box = df_box.rename(columns={'author':'Author',\n",
    "                                'account_category':'Account Type',\n",
    "                                'external_author_id':'Number of Tweets'\n",
    "                               })\n",
    "df_box.head()"
   ]
  },
  {
   "cell_type": "code",
   "execution_count": 102,
   "metadata": {},
   "outputs": [
    {
     "data": {
      "text/plain": [
       "<matplotlib.axes._subplots.AxesSubplot at 0x27b15cf2400>"
      ]
     },
     "execution_count": 102,
     "metadata": {},
     "output_type": "execute_result"
    },
    {
     "data": {
      "image/png": "[encoded data removed]",
      "text/plain": [
       "<Figure size 1440x720 with 1 Axes>"
      ]
     },
     "metadata": {},
     "output_type": "display_data"
    }
   ],
   "source": [
    "# Create a boxplot to compare means\n",
    "df_box.boxplot(\"Number of Tweets\", by=\"Account Type\", figsize=(20, 10))"
   ]
  },
  {
   "cell_type": "code",
   "execution_count": 107,
   "metadata": {},
   "outputs": [
    {
     "data": {
      "text/plain": [
       "<matplotlib.axes._subplots.AxesSubplot at 0x27b0bfa2f98>"
      ]
     },
     "execution_count": 107,
     "metadata": {},
     "output_type": "execute_result"
    },
    {
     "data": {
      "image/png": "[encoded data removed]",
      "text/plain": [
       "<Figure size 1440x720 with 1 Axes>"
      ]
     },
     "metadata": {},
     "output_type": "display_data"
    }
   ],
   "source": [
    "# Create a boxplot to compare means\n",
    "df_box.loc[df_box['Account Type'] == 'Fearmonger'].boxplot(\"Number of Tweets\", figsize=(20, 10))"
   ]
  },
  {
   "cell_type": "code",
   "execution_count": 106,
   "metadata": {},
   "outputs": [
    {
     "data": {
      "text/plain": [
       "<matplotlib.axes._subplots.AxesSubplot at 0x27b13ff0fd0>"
      ]
     },
     "execution_count": 106,
     "metadata": {},
     "output_type": "execute_result"
    },
    {
     "data": {
      "image/png": "[encoded data removed]",
      "text/plain": [
       "<Figure size 1440x720 with 1 Axes>"
      ]
     },
     "metadata": {},
     "output_type": "display_data"
    }
   ],
   "source": [
    "# Create a boxplot to compare means\n",
    "df_box.boxplot(\"Number of Tweets\", figsize=(20, 10))"
   ]
  },
  {
   "cell_type": "code",
   "execution_count": null,
   "metadata": {},
   "outputs": [],
   "source": []
  }
 ],
 "metadata": {
  "kernelspec": {
   "display_name": "Python 3",
   "language": "python",
   "name": "python3"
  },
  "language_info": {
   "codemirror_mode": {
    "name": "ipython",
    "version": 3
   },
   "file_extension": ".py",
   "mimetype": "text/x-python",
   "name": "python",
   "nbconvert_exporter": "python",
   "pygments_lexer": "ipython3",
   "version": "3.6.5"
  }
 },
 "nbformat": 4,
 "nbformat_minor": 2
}
