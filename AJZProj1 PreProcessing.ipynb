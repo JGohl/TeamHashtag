{
 "cells": [
  {
   "cell_type": "code",
   "execution_count": 1,
   "metadata": {},
   "outputs": [],
   "source": [
    "#Libraries and Dependencies\n",
    "import pandas as pd\n",
    "import numpy as np\n",
    "import matplotlib.pyplot as plt\n",
    "import glob\n",
    "import os"
   ]
  },
  {
   "cell_type": "code",
   "execution_count": 2,
   "metadata": {},
   "outputs": [
    {
     "name": "stderr",
     "output_type": "stream",
     "text": [
      "C:\\Users\\adamz\\Anaconda3\\lib\\site-packages\\IPython\\core\\interactiveshell.py:2785: DtypeWarning: Columns (20) have mixed types. Specify dtype option on import or set low_memory=False.\n",
      "  interactivity=interactivity, compiler=compiler, result=result)\n",
      "C:\\Users\\adamz\\Anaconda3\\lib\\site-packages\\IPython\\core\\interactiveshell.py:2785: DtypeWarning: Columns (10,20) have mixed types. Specify dtype option on import or set low_memory=False.\n",
      "  interactivity=interactivity, compiler=compiler, result=result)\n",
      "C:\\Users\\adamz\\Anaconda3\\lib\\site-packages\\IPython\\core\\interactiveshell.py:2785: DtypeWarning: Columns (0,15,20) have mixed types. Specify dtype option on import or set low_memory=False.\n",
      "  interactivity=interactivity, compiler=compiler, result=result)\n"
     ]
    },
    {
     "data": {
      "text/html": [
       "<div>\n",
       "<style scoped>\n",
       "    .dataframe tbody tr th:only-of-type {\n",
       "        vertical-align: middle;\n",
       "    }\n",
       "\n",
       "    .dataframe tbody tr th {\n",
       "        vertical-align: top;\n",
       "    }\n",
       "\n",
       "    .dataframe thead th {\n",
       "        text-align: right;\n",
       "    }\n",
       "</style>\n",
       "<table border=\"1\" class=\"dataframe\">\n",
       "  <thead>\n",
       "    <tr style=\"text-align: right;\">\n",
       "      <th></th>\n",
       "      <th>external_author_id</th>\n",
       "      <th>author</th>\n",
       "      <th>region</th>\n",
       "      <th>language</th>\n",
       "      <th>retweet</th>\n",
       "      <th>publish_date</th>\n",
       "      <th>following</th>\n",
       "      <th>followers</th>\n",
       "      <th>account_type</th>\n",
       "      <th>account_category</th>\n",
       "    </tr>\n",
       "  </thead>\n",
       "  <tbody>\n",
       "    <tr>\n",
       "      <th>0</th>\n",
       "      <td>906000000000000000</td>\n",
       "      <td>10_GOP</td>\n",
       "      <td>Unknown</td>\n",
       "      <td>English</td>\n",
       "      <td>0</td>\n",
       "      <td>2017-10-01</td>\n",
       "      <td>1052</td>\n",
       "      <td>9636</td>\n",
       "      <td>Right</td>\n",
       "      <td>RightTroll</td>\n",
       "    </tr>\n",
       "    <tr>\n",
       "      <th>1</th>\n",
       "      <td>906000000000000000</td>\n",
       "      <td>10_GOP</td>\n",
       "      <td>Unknown</td>\n",
       "      <td>English</td>\n",
       "      <td>0</td>\n",
       "      <td>2017-10-01</td>\n",
       "      <td>1054</td>\n",
       "      <td>9637</td>\n",
       "      <td>Right</td>\n",
       "      <td>RightTroll</td>\n",
       "    </tr>\n",
       "    <tr>\n",
       "      <th>2</th>\n",
       "      <td>906000000000000000</td>\n",
       "      <td>10_GOP</td>\n",
       "      <td>Unknown</td>\n",
       "      <td>English</td>\n",
       "      <td>1</td>\n",
       "      <td>2017-10-01</td>\n",
       "      <td>1054</td>\n",
       "      <td>9637</td>\n",
       "      <td>Right</td>\n",
       "      <td>RightTroll</td>\n",
       "    </tr>\n",
       "    <tr>\n",
       "      <th>3</th>\n",
       "      <td>906000000000000000</td>\n",
       "      <td>10_GOP</td>\n",
       "      <td>Unknown</td>\n",
       "      <td>English</td>\n",
       "      <td>0</td>\n",
       "      <td>2017-10-01</td>\n",
       "      <td>1062</td>\n",
       "      <td>9642</td>\n",
       "      <td>Right</td>\n",
       "      <td>RightTroll</td>\n",
       "    </tr>\n",
       "    <tr>\n",
       "      <th>4</th>\n",
       "      <td>906000000000000000</td>\n",
       "      <td>10_GOP</td>\n",
       "      <td>Unknown</td>\n",
       "      <td>English</td>\n",
       "      <td>1</td>\n",
       "      <td>2017-10-01</td>\n",
       "      <td>1050</td>\n",
       "      <td>9645</td>\n",
       "      <td>Right</td>\n",
       "      <td>RightTroll</td>\n",
       "    </tr>\n",
       "  </tbody>\n",
       "</table>\n",
       "</div>"
      ],
      "text/plain": [
       "   external_author_id  author   region language  retweet publish_date  \\\n",
       "0  906000000000000000  10_GOP  Unknown  English        0   2017-10-01   \n",
       "1  906000000000000000  10_GOP  Unknown  English        0   2017-10-01   \n",
       "2  906000000000000000  10_GOP  Unknown  English        1   2017-10-01   \n",
       "3  906000000000000000  10_GOP  Unknown  English        0   2017-10-01   \n",
       "4  906000000000000000  10_GOP  Unknown  English        1   2017-10-01   \n",
       "\n",
       "   following  followers account_type account_category  \n",
       "0       1052       9636        Right       RightTroll  \n",
       "1       1054       9637        Right       RightTroll  \n",
       "2       1054       9637        Right       RightTroll  \n",
       "3       1062       9642        Right       RightTroll  \n",
       "4       1050       9645        Right       RightTroll  "
      ]
     },
     "execution_count": 2,
     "metadata": {},
     "output_type": "execute_result"
    }
   ],
   "source": [
    "#define path for all files in work folder\n",
    "path = r'' \n",
    "all_files = glob.glob(os.path.join(path, \"*.csv\"))\n",
    "\n",
    "#create empty dataframe and list for dataframe build\n",
    "frame = pd.DataFrame()\n",
    "list_ = []\n",
    "\n",
    "#loop through all files in work folder, select columns, and convert publish_date column to datetime format\n",
    "for file_ in all_files:\n",
    "    df = pd.read_csv(file_,index_col=None, header=0)\n",
    "    df_edit = pd.DataFrame(df[['external_author_id', \n",
    "                               'author', \n",
    "                               'region', \n",
    "                               'language',\n",
    "                               'retweet',\n",
    "                               'publish_date',\n",
    "                               'following', \n",
    "                               'followers',\n",
    "                               'account_type',\n",
    "                               'account_category']])\n",
    "    df_edit['publish_date'] = df_edit['publish_date'].str.split(' ', expand=True)\n",
    "    df_edit['publish_date'] = pd.to_datetime(df_edit['publish_date'])\n",
    "    list_.append(df_edit)\n",
    "\n",
    "#concat appended list into single data frame\n",
    "frame = pd.concat(list_)\n",
    "frame.head()"
   ]
  },
  {
   "cell_type": "code",
   "execution_count": 4,
   "metadata": {},
   "outputs": [],
   "source": [
    "frame.to_csv(\"Output/frame.csv\", index =False)"
   ]
  },
  {
   "cell_type": "code",
   "execution_count": 5,
   "metadata": {},
   "outputs": [
    {
     "name": "stderr",
     "output_type": "stream",
     "text": [
      "C:\\Users\\adamz\\Anaconda3\\lib\\site-packages\\IPython\\core\\interactiveshell.py:2785: DtypeWarning: Columns (0) have mixed types. Specify dtype option on import or set low_memory=False.\n",
      "  interactivity=interactivity, compiler=compiler, result=result)\n"
     ]
    }
   ],
   "source": [
    "frame_df = pd.read_csv(\"Output/frame.csv\",index_col=None, header=0)"
   ]
  },
  {
   "cell_type": "code",
   "execution_count": null,
   "metadata": {},
   "outputs": [],
   "source": []
  },
  {
   "cell_type": "code",
   "execution_count": null,
   "metadata": {
    "scrolled": true
   },
   "outputs": [],
   "source": []
  },
  {
   "cell_type": "code",
   "execution_count": null,
   "metadata": {},
   "outputs": [],
   "source": []
  }
 ],
 "metadata": {
  "kernelspec": {
   "display_name": "Python 3",
   "language": "python",
   "name": "python3"
  },
  "language_info": {
   "codemirror_mode": {
    "name": "ipython",
    "version": 3
   },
   "file_extension": ".py",
   "mimetype": "text/x-python",
   "name": "python",
   "nbconvert_exporter": "python",
   "pygments_lexer": "ipython3",
   "version": "3.6.5"
  }
 },
 "nbformat": 4,
 "nbformat_minor": 2
}
